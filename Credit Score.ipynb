{
 "cells": [
  {
   "cell_type": "markdown",
   "metadata": {},
   "source": [
    "# Credit Score"
   ]
  },
  {
   "cell_type": "markdown",
   "metadata": {},
   "source": [
    "## Project Description"
   ]
  },
  {
   "cell_type": "raw",
   "metadata": {},
   "source": [
    "L’objectif de ce projet est de créer un modèle d’apprentissage automatique\n",
    "permettant de prédire les personnes les plus susceptibles de faire défaut sur\n",
    "leurs prêts, en fonction de leurs comportements (historique) de\n",
    "remboursement des prêts et de leurs activités de commerce électronique."
   ]
  },
  {
   "cell_type": "markdown",
   "metadata": {},
   "source": [
    "## Import Libraries and Dataset"
   ]
  },
  {
   "cell_type": "code",
   "execution_count": 13,
   "metadata": {},
   "outputs": [],
   "source": [
    "import pandas as pd\n",
    "import matplotlib as plt\n",
    "import seaborn as sns\n",
    "\n",
    "#Display all columns\n",
    "pd.set_option('display.max_columns', 999)\n",
    "#pd.get_option(\"display.max_rows\")\n",
    "#pd.set_option('max_colwidth', 100)"
   ]
  },
  {
   "cell_type": "code",
   "execution_count": 14,
   "metadata": {},
   "outputs": [
    {
     "data": {
      "text/html": [
       "<div>\n",
       "<style scoped>\n",
       "    .dataframe tbody tr th:only-of-type {\n",
       "        vertical-align: middle;\n",
       "    }\n",
       "\n",
       "    .dataframe tbody tr th {\n",
       "        vertical-align: top;\n",
       "    }\n",
       "\n",
       "    .dataframe thead th {\n",
       "        text-align: right;\n",
       "    }\n",
       "</style>\n",
       "<table border=\"1\" class=\"dataframe\">\n",
       "  <thead>\n",
       "    <tr style=\"text-align: right;\">\n",
       "      <th></th>\n",
       "      <th>CustomerId</th>\n",
       "      <th>TransactionStartTime</th>\n",
       "      <th>Value</th>\n",
       "      <th>Amount</th>\n",
       "      <th>TransactionId</th>\n",
       "      <th>BatchId</th>\n",
       "      <th>SubscriptionId</th>\n",
       "      <th>CurrencyCode</th>\n",
       "      <th>CountryCode</th>\n",
       "      <th>ProviderId</th>\n",
       "      <th>ProductId</th>\n",
       "      <th>ProductCategory</th>\n",
       "      <th>ChannelId</th>\n",
       "      <th>TransactionStatus</th>\n",
       "      <th>IssuedDateLoan</th>\n",
       "      <th>AmountLoan</th>\n",
       "      <th>Currency</th>\n",
       "      <th>LoanId</th>\n",
       "      <th>PaidOnDate</th>\n",
       "      <th>IsFinalPayBack</th>\n",
       "      <th>InvestorId</th>\n",
       "      <th>DueDate</th>\n",
       "      <th>LoanApplicationId</th>\n",
       "      <th>PayBackId</th>\n",
       "      <th>ThirdPartyId</th>\n",
       "      <th>IsThirdPartyConfirmed</th>\n",
       "      <th>IsDefaulted</th>\n",
       "    </tr>\n",
       "  </thead>\n",
       "  <tbody>\n",
       "    <tr>\n",
       "      <th>0</th>\n",
       "      <td>CustomerId_27</td>\n",
       "      <td>9/21/2018 12:17</td>\n",
       "      <td>550.0</td>\n",
       "      <td>-550.0</td>\n",
       "      <td>TransactionId_1683</td>\n",
       "      <td>BatchId_641</td>\n",
       "      <td>SubscriptionId_2</td>\n",
       "      <td>UGX</td>\n",
       "      <td>256</td>\n",
       "      <td>ProviderId_1</td>\n",
       "      <td>ProductId_7</td>\n",
       "      <td>airtime</td>\n",
       "      <td>ChannelId_1</td>\n",
       "      <td>0</td>\n",
       "      <td>NaN</td>\n",
       "      <td>NaN</td>\n",
       "      <td>NaN</td>\n",
       "      <td>NaN</td>\n",
       "      <td>NaN</td>\n",
       "      <td>NaN</td>\n",
       "      <td>NaN</td>\n",
       "      <td>NaN</td>\n",
       "      <td>NaN</td>\n",
       "      <td>NaN</td>\n",
       "      <td>NaN</td>\n",
       "      <td>NaN</td>\n",
       "      <td>NaN</td>\n",
       "    </tr>\n",
       "    <tr>\n",
       "      <th>1</th>\n",
       "      <td>CustomerId_27</td>\n",
       "      <td>9/25/2018 9:20</td>\n",
       "      <td>550.0</td>\n",
       "      <td>-550.0</td>\n",
       "      <td>TransactionId_2235</td>\n",
       "      <td>BatchId_820</td>\n",
       "      <td>SubscriptionId_2</td>\n",
       "      <td>UGX</td>\n",
       "      <td>256</td>\n",
       "      <td>ProviderId_1</td>\n",
       "      <td>ProductId_7</td>\n",
       "      <td>airtime</td>\n",
       "      <td>ChannelId_1</td>\n",
       "      <td>0</td>\n",
       "      <td>NaN</td>\n",
       "      <td>NaN</td>\n",
       "      <td>NaN</td>\n",
       "      <td>NaN</td>\n",
       "      <td>NaN</td>\n",
       "      <td>NaN</td>\n",
       "      <td>NaN</td>\n",
       "      <td>NaN</td>\n",
       "      <td>NaN</td>\n",
       "      <td>NaN</td>\n",
       "      <td>NaN</td>\n",
       "      <td>NaN</td>\n",
       "      <td>NaN</td>\n",
       "    </tr>\n",
       "    <tr>\n",
       "      <th>2</th>\n",
       "      <td>CustomerId_27</td>\n",
       "      <td>9/25/2018 10:33</td>\n",
       "      <td>550.0</td>\n",
       "      <td>-550.0</td>\n",
       "      <td>TransactionId_1053</td>\n",
       "      <td>BatchId_210</td>\n",
       "      <td>SubscriptionId_4</td>\n",
       "      <td>UGX</td>\n",
       "      <td>256</td>\n",
       "      <td>ProviderId_1</td>\n",
       "      <td>ProductId_7</td>\n",
       "      <td>airtime</td>\n",
       "      <td>ChannelId_1</td>\n",
       "      <td>0</td>\n",
       "      <td>NaN</td>\n",
       "      <td>NaN</td>\n",
       "      <td>NaN</td>\n",
       "      <td>NaN</td>\n",
       "      <td>NaN</td>\n",
       "      <td>NaN</td>\n",
       "      <td>NaN</td>\n",
       "      <td>NaN</td>\n",
       "      <td>NaN</td>\n",
       "      <td>NaN</td>\n",
       "      <td>NaN</td>\n",
       "      <td>NaN</td>\n",
       "      <td>NaN</td>\n",
       "    </tr>\n",
       "    <tr>\n",
       "      <th>3</th>\n",
       "      <td>CustomerId_27</td>\n",
       "      <td>9/27/2018 10:26</td>\n",
       "      <td>1000.0</td>\n",
       "      <td>-1000.0</td>\n",
       "      <td>TransactionId_2633</td>\n",
       "      <td>BatchId_876</td>\n",
       "      <td>SubscriptionId_4</td>\n",
       "      <td>UGX</td>\n",
       "      <td>256</td>\n",
       "      <td>ProviderId_1</td>\n",
       "      <td>ProductId_7</td>\n",
       "      <td>airtime</td>\n",
       "      <td>ChannelId_1</td>\n",
       "      <td>0</td>\n",
       "      <td>NaN</td>\n",
       "      <td>NaN</td>\n",
       "      <td>NaN</td>\n",
       "      <td>NaN</td>\n",
       "      <td>NaN</td>\n",
       "      <td>NaN</td>\n",
       "      <td>NaN</td>\n",
       "      <td>NaN</td>\n",
       "      <td>NaN</td>\n",
       "      <td>NaN</td>\n",
       "      <td>NaN</td>\n",
       "      <td>NaN</td>\n",
       "      <td>NaN</td>\n",
       "    </tr>\n",
       "    <tr>\n",
       "      <th>4</th>\n",
       "      <td>CustomerId_27</td>\n",
       "      <td>9/27/2018 12:44</td>\n",
       "      <td>500.0</td>\n",
       "      <td>-500.0</td>\n",
       "      <td>TransactionId_71</td>\n",
       "      <td>BatchId_1362</td>\n",
       "      <td>SubscriptionId_4</td>\n",
       "      <td>UGX</td>\n",
       "      <td>256</td>\n",
       "      <td>ProviderId_1</td>\n",
       "      <td>ProductId_7</td>\n",
       "      <td>airtime</td>\n",
       "      <td>ChannelId_1</td>\n",
       "      <td>0</td>\n",
       "      <td>NaN</td>\n",
       "      <td>NaN</td>\n",
       "      <td>NaN</td>\n",
       "      <td>NaN</td>\n",
       "      <td>NaN</td>\n",
       "      <td>NaN</td>\n",
       "      <td>NaN</td>\n",
       "      <td>NaN</td>\n",
       "      <td>NaN</td>\n",
       "      <td>NaN</td>\n",
       "      <td>NaN</td>\n",
       "      <td>NaN</td>\n",
       "      <td>NaN</td>\n",
       "    </tr>\n",
       "  </tbody>\n",
       "</table>\n",
       "</div>"
      ],
      "text/plain": [
       "      CustomerId TransactionStartTime   Value  Amount       TransactionId  \\\n",
       "0  CustomerId_27      9/21/2018 12:17   550.0  -550.0  TransactionId_1683   \n",
       "1  CustomerId_27       9/25/2018 9:20   550.0  -550.0  TransactionId_2235   \n",
       "2  CustomerId_27      9/25/2018 10:33   550.0  -550.0  TransactionId_1053   \n",
       "3  CustomerId_27      9/27/2018 10:26  1000.0 -1000.0  TransactionId_2633   \n",
       "4  CustomerId_27      9/27/2018 12:44   500.0  -500.0    TransactionId_71   \n",
       "\n",
       "        BatchId    SubscriptionId CurrencyCode  CountryCode    ProviderId  \\\n",
       "0   BatchId_641  SubscriptionId_2          UGX          256  ProviderId_1   \n",
       "1   BatchId_820  SubscriptionId_2          UGX          256  ProviderId_1   \n",
       "2   BatchId_210  SubscriptionId_4          UGX          256  ProviderId_1   \n",
       "3   BatchId_876  SubscriptionId_4          UGX          256  ProviderId_1   \n",
       "4  BatchId_1362  SubscriptionId_4          UGX          256  ProviderId_1   \n",
       "\n",
       "     ProductId ProductCategory    ChannelId  TransactionStatus IssuedDateLoan  \\\n",
       "0  ProductId_7         airtime  ChannelId_1                  0            NaN   \n",
       "1  ProductId_7         airtime  ChannelId_1                  0            NaN   \n",
       "2  ProductId_7         airtime  ChannelId_1                  0            NaN   \n",
       "3  ProductId_7         airtime  ChannelId_1                  0            NaN   \n",
       "4  ProductId_7         airtime  ChannelId_1                  0            NaN   \n",
       "\n",
       "   AmountLoan Currency LoanId PaidOnDate  IsFinalPayBack InvestorId DueDate  \\\n",
       "0         NaN      NaN    NaN        NaN             NaN        NaN     NaN   \n",
       "1         NaN      NaN    NaN        NaN             NaN        NaN     NaN   \n",
       "2         NaN      NaN    NaN        NaN             NaN        NaN     NaN   \n",
       "3         NaN      NaN    NaN        NaN             NaN        NaN     NaN   \n",
       "4         NaN      NaN    NaN        NaN             NaN        NaN     NaN   \n",
       "\n",
       "  LoanApplicationId PayBackId ThirdPartyId  IsThirdPartyConfirmed  IsDefaulted  \n",
       "0               NaN       NaN          NaN                    NaN          NaN  \n",
       "1               NaN       NaN          NaN                    NaN          NaN  \n",
       "2               NaN       NaN          NaN                    NaN          NaN  \n",
       "3               NaN       NaN          NaN                    NaN          NaN  \n",
       "4               NaN       NaN          NaN                    NaN          NaN  "
      ]
     },
     "execution_count": 14,
     "metadata": {},
     "output_type": "execute_result"
    }
   ],
   "source": [
    "train_df = pd.read_csv('Train.csv')\n",
    "train_df.head()"
   ]
  },
  {
   "cell_type": "code",
   "execution_count": 15,
   "metadata": {},
   "outputs": [
    {
     "data": {
      "text/plain": [
       "CustomerId                 0\n",
       "TransactionStartTime       0\n",
       "Value                      0\n",
       "Amount                     0\n",
       "TransactionId              0\n",
       "BatchId                    0\n",
       "SubscriptionId             0\n",
       "CurrencyCode               0\n",
       "CountryCode                0\n",
       "ProviderId                 0\n",
       "ProductId                  0\n",
       "ProductCategory            0\n",
       "ChannelId                  0\n",
       "TransactionStatus          0\n",
       "IssuedDateLoan           612\n",
       "AmountLoan               612\n",
       "Currency                 612\n",
       "LoanId                   612\n",
       "PaidOnDate               612\n",
       "IsFinalPayBack           612\n",
       "InvestorId               612\n",
       "DueDate                  614\n",
       "LoanApplicationId        617\n",
       "PayBackId                612\n",
       "ThirdPartyId             614\n",
       "IsThirdPartyConfirmed    612\n",
       "IsDefaulted              612\n",
       "dtype: int64"
      ]
     },
     "execution_count": 15,
     "metadata": {},
     "output_type": "execute_result"
    }
   ],
   "source": [
    "#Checking Na values\n",
    "train_df.isna().sum()"
   ]
  },
  {
   "cell_type": "code",
   "execution_count": 16,
   "metadata": {},
   "outputs": [
    {
     "data": {
      "text/plain": [
       "CustomerId                421\n",
       "TransactionStartTime     1606\n",
       "Value                      98\n",
       "Amount                     77\n",
       "TransactionId            1758\n",
       "BatchId                  1713\n",
       "SubscriptionId              6\n",
       "CurrencyCode                1\n",
       "CountryCode                 1\n",
       "ProviderId                  1\n",
       "ProductId                  16\n",
       "ProductCategory             7\n",
       "ChannelId                   1\n",
       "TransactionStatus           2\n",
       "IssuedDateLoan           1101\n",
       "AmountLoan                647\n",
       "Currency                    1\n",
       "LoanId                   1159\n",
       "PaidOnDate               1427\n",
       "IsFinalPayBack              2\n",
       "InvestorId                  3\n",
       "DueDate                  1101\n",
       "LoanApplicationId        1156\n",
       "PayBackId                1485\n",
       "ThirdPartyId             1481\n",
       "IsThirdPartyConfirmed       2\n",
       "IsDefaulted                 2\n",
       "dtype: int64"
      ]
     },
     "execution_count": 16,
     "metadata": {},
     "output_type": "execute_result"
    }
   ],
   "source": [
    "#Checking Unique values\n",
    "train_df.nunique()"
   ]
  },
  {
   "cell_type": "markdown",
   "metadata": {},
   "source": [
    "## Defaulted caracteristics"
   ]
  },
  {
   "cell_type": "code",
   "execution_count": 29,
   "metadata": {},
   "outputs": [
    {
     "data": {
      "text/plain": [
       "69"
      ]
     },
     "execution_count": 29,
     "metadata": {},
     "output_type": "execute_result"
    }
   ],
   "source": [
    "#Select only defaulted\n",
    "df_defaulted = train_df[(train_df['IsDefaulted'] == 1)]\n",
    "#Group defaulted customer by CustomerId\n",
    "groupby_CustomerId = df_defaulted.groupby('CustomerId').sum()\n",
    "len(groupby_CustomerId)"
   ]
  },
  {
   "cell_type": "code",
   "execution_count": 33,
   "metadata": {},
   "outputs": [
    {
     "data": {
      "text/plain": [
       "count        69.000000\n",
       "mean      47164.202899\n",
       "std       48226.195458\n",
       "min         500.000000\n",
       "25%        5000.000000\n",
       "50%       35000.000000\n",
       "75%       64000.000000\n",
       "max      192000.000000\n",
       "Name: AmountLoan, dtype: float64"
      ]
     },
     "execution_count": 33,
     "metadata": {},
     "output_type": "execute_result"
    }
   ],
   "source": [
    "#Defaulted loans caracteristics\n",
    "groupby_CustomerId.AmountLoan.describe()"
   ]
  },
  {
   "cell_type": "code",
   "execution_count": 31,
   "metadata": {},
   "outputs": [
    {
     "data": {
      "text/plain": [
       "CustomerId                69\n",
       "TransactionStartTime      53\n",
       "Value                     12\n",
       "Amount                    11\n",
       "TransactionId             71\n",
       "BatchId                   71\n",
       "SubscriptionId             3\n",
       "CurrencyCode               1\n",
       "CountryCode                1\n",
       "ProviderId                 1\n",
       "ProductId                  6\n",
       "ProductCategory            4\n",
       "ChannelId                  1\n",
       "TransactionStatus          1\n",
       "IssuedDateLoan            53\n",
       "AmountLoan                42\n",
       "Currency                   1\n",
       "LoanId                    71\n",
       "PaidOnDate               177\n",
       "IsFinalPayBack             2\n",
       "InvestorId                 2\n",
       "DueDate                   54\n",
       "LoanApplicationId         71\n",
       "PayBackId                178\n",
       "ThirdPartyId             175\n",
       "IsThirdPartyConfirmed      2\n",
       "IsDefaulted                1\n",
       "dtype: int64"
      ]
     },
     "execution_count": 31,
     "metadata": {},
     "output_type": "execute_result"
    }
   ],
   "source": [
    "#Checking number of loans per defaulted customer\n",
    "df_defaulted.nunique()"
   ]
  },
  {
   "cell_type": "code",
   "execution_count": 32,
   "metadata": {},
   "outputs": [
    {
     "data": {
      "image/png": "[encoded data removed]",
      "text/plain": [
       "<Figure size 432x288 with 1 Axes>"
      ]
     },
     "metadata": {
      "needs_background": "light"
     },
     "output_type": "display_data"
    }
   ],
   "source": [
    "#Visualising Most defaulted loans products\n",
    "m = sns.countplot(data=df_defaulted, x = 'ProductId', palette='Dark2')"
   ]
  },
  {
   "cell_type": "code",
   "execution_count": 35,
   "metadata": {},
   "outputs": [
    {
     "data": {
      "text/html": [
       "<div>\n",
       "<style scoped>\n",
       "    .dataframe tbody tr th:only-of-type {\n",
       "        vertical-align: middle;\n",
       "    }\n",
       "\n",
       "    .dataframe tbody tr th {\n",
       "        vertical-align: top;\n",
       "    }\n",
       "\n",
       "    .dataframe thead th {\n",
       "        text-align: right;\n",
       "    }\n",
       "</style>\n",
       "<table border=\"1\" class=\"dataframe\">\n",
       "  <thead>\n",
       "    <tr style=\"text-align: right;\">\n",
       "      <th></th>\n",
       "      <th>Value</th>\n",
       "      <th>Amount</th>\n",
       "      <th>CountryCode</th>\n",
       "      <th>TransactionStatus</th>\n",
       "      <th>AmountLoan</th>\n",
       "      <th>IsFinalPayBack</th>\n",
       "      <th>IsThirdPartyConfirmed</th>\n",
       "      <th>IsDefaulted</th>\n",
       "    </tr>\n",
       "    <tr>\n",
       "      <th>ProductId</th>\n",
       "      <th></th>\n",
       "      <th></th>\n",
       "      <th></th>\n",
       "      <th></th>\n",
       "      <th></th>\n",
       "      <th></th>\n",
       "      <th></th>\n",
       "      <th></th>\n",
       "    </tr>\n",
       "  </thead>\n",
       "  <tbody>\n",
       "    <tr>\n",
       "      <th>ProductId_1</th>\n",
       "      <td>36000.0</td>\n",
       "      <td>-36000.0</td>\n",
       "      <td>1024</td>\n",
       "      <td>4</td>\n",
       "      <td>6780.0</td>\n",
       "      <td>0.0</td>\n",
       "      <td>4.0</td>\n",
       "      <td>4.0</td>\n",
       "    </tr>\n",
       "    <tr>\n",
       "      <th>ProductId_18</th>\n",
       "      <td>35976000.0</td>\n",
       "      <td>-35976000.0</td>\n",
       "      <td>39168</td>\n",
       "      <td>153</td>\n",
       "      <td>3202500.0</td>\n",
       "      <td>2.0</td>\n",
       "      <td>152.0</td>\n",
       "      <td>153.0</td>\n",
       "    </tr>\n",
       "    <tr>\n",
       "      <th>ProductId_3</th>\n",
       "      <td>49000.0</td>\n",
       "      <td>-49000.0</td>\n",
       "      <td>2560</td>\n",
       "      <td>10</td>\n",
       "      <td>19790.0</td>\n",
       "      <td>0.0</td>\n",
       "      <td>10.0</td>\n",
       "      <td>10.0</td>\n",
       "    </tr>\n",
       "    <tr>\n",
       "      <th>ProductId_4</th>\n",
       "      <td>5000.0</td>\n",
       "      <td>-5000.0</td>\n",
       "      <td>256</td>\n",
       "      <td>1</td>\n",
       "      <td>900.0</td>\n",
       "      <td>0.0</td>\n",
       "      <td>1.0</td>\n",
       "      <td>1.0</td>\n",
       "    </tr>\n",
       "    <tr>\n",
       "      <th>ProductId_7</th>\n",
       "      <td>74998.0</td>\n",
       "      <td>-74998.0</td>\n",
       "      <td>2048</td>\n",
       "      <td>8</td>\n",
       "      <td>17695.0</td>\n",
       "      <td>1.0</td>\n",
       "      <td>7.0</td>\n",
       "      <td>8.0</td>\n",
       "    </tr>\n",
       "    <tr>\n",
       "      <th>ProductId_9</th>\n",
       "      <td>25790.0</td>\n",
       "      <td>-23000.0</td>\n",
       "      <td>512</td>\n",
       "      <td>2</td>\n",
       "      <td>6665.0</td>\n",
       "      <td>0.0</td>\n",
       "      <td>2.0</td>\n",
       "      <td>2.0</td>\n",
       "    </tr>\n",
       "  </tbody>\n",
       "</table>\n",
       "</div>"
      ],
      "text/plain": [
       "                   Value      Amount  CountryCode  TransactionStatus  \\\n",
       "ProductId                                                              \n",
       "ProductId_1      36000.0    -36000.0         1024                  4   \n",
       "ProductId_18  35976000.0 -35976000.0        39168                153   \n",
       "ProductId_3      49000.0    -49000.0         2560                 10   \n",
       "ProductId_4       5000.0     -5000.0          256                  1   \n",
       "ProductId_7      74998.0    -74998.0         2048                  8   \n",
       "ProductId_9      25790.0    -23000.0          512                  2   \n",
       "\n",
       "              AmountLoan  IsFinalPayBack  IsThirdPartyConfirmed  IsDefaulted  \n",
       "ProductId                                                                     \n",
       "ProductId_1       6780.0             0.0                    4.0          4.0  \n",
       "ProductId_18   3202500.0             2.0                  152.0        153.0  \n",
       "ProductId_3      19790.0             0.0                   10.0         10.0  \n",
       "ProductId_4        900.0             0.0                    1.0          1.0  \n",
       "ProductId_7      17695.0             1.0                    7.0          8.0  \n",
       "ProductId_9       6665.0             0.0                    2.0          2.0  "
      ]
     },
     "execution_count": 35,
     "metadata": {},
     "output_type": "execute_result"
    }
   ],
   "source": [
    "#Visualising defaulted values grouped by loan products\n",
    "groupby_ProductId = df_defaulted.groupby('ProductId').sum()\n",
    "groupby_ProductId"
   ]
  },
  {
   "cell_type": "code",
   "execution_count": 43,
   "metadata": {},
   "outputs": [
    {
     "data": {
      "text/plain": [
       "<matplotlib.axes._subplots.AxesSubplot at 0x7f35c5202630>"
      ]
     },
     "execution_count": 43,
     "metadata": {},
     "output_type": "execute_result"
    },
    {
     "data": {
      "image/png": "[encoded data removed]",
      "text/plain": [
       "<Figure size 432x288 with 1 Axes>"
      ]
     },
     "metadata": {},
     "output_type": "display_data"
    }
   ],
   "source": [
    "groupby_ProductId.Value.plot(kind='pie')"
   ]
  },
  {
   "cell_type": "code",
   "execution_count": null,
   "metadata": {},
   "outputs": [],
   "source": []
  }
 ],
 "metadata": {
  "kernelspec": {
   "display_name": "Python 3",
   "language": "python",
   "name": "python3"
  },
  "language_info": {
   "codemirror_mode": {
    "name": "ipython",
    "version": 3
   },
   "file_extension": ".py",
   "mimetype": "text/x-python",
   "name": "python",
   "nbconvert_exporter": "python",
   "pygments_lexer": "ipython3",
   "version": "3.6.9"
  }
 },
 "nbformat": 4,
 "nbformat_minor": 2
}
